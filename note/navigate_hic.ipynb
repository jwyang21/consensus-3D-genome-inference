{
 "cells": [
  {
   "cell_type": "code",
   "execution_count": null,
   "metadata": {},
   "outputs": [],
   "source": [
    "#hic_chr14_corr = pd.read_csv('/data/project/jeewon/research/3D-ITH/data/GSE18199_HiC-EBV-2009/binned_heatmap/HIC_gm06690_chr14_chr14_100000_pearson.txt',skiprows=[0], index_col = 0, sep = '\\t')\n",
    "hic_corr_fname = '/data/project/jeewon/research/3D-ITH/data/GSE18199_HiC-EBV-2009/binned_heatmap/HIC_gm06690_chr'+chromosome+'_chr'+chromosome+'_100000_pearson.txt'\n",
    "print(\"Filename of Hi-C data (PCC): \", hic_corr_fname)\n",
    "hic_corr = pd.read_csv(hic_corr_fname, skiprows=[0], index_col = 0, sep = '\\t')\n",
    "print(\"Shape of Hi-C data (PCC): \", hic_corr.shape)\n",
    "print(\"Max value of hic_corr: \", hic_corr.max().max())\n",
    "print(\"Min value of hic_corr: \", hic_corr.min().min())"
   ]
  },
  {
   "cell_type": "markdown",
   "metadata": {},
   "source": [
    "- HiC data의 shape, min, max 확인\n",
    "- pearson corr. <- use this!\n",
    "- obsexp"
   ]
  },
  {
   "cell_type": "code",
   "execution_count": null,
   "metadata": {},
   "outputs": [],
   "source": []
  }
 ],
 "metadata": {
  "kernelspec": {
   "display_name": "3dith-reproduce",
   "language": "python",
   "name": "3dith-reproduce"
  },
  "language_info": {
   "codemirror_mode": {
    "name": "ipython",
    "version": 3
   },
   "file_extension": ".py",
   "mimetype": "text/x-python",
   "name": "python",
   "nbconvert_exporter": "python",
   "pygments_lexer": "ipython3",
   "version": "3.11.0"
  }
 },
 "nbformat": 4,
 "nbformat_minor": 2
}
